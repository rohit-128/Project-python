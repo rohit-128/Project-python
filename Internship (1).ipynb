{
  "cells": [
    {
      "cell_type": "code",
      "execution_count": null,
      "id": "37239345-dc26-4dc9-85ec-8a8d6e2ef996",
      "metadata": {
        "id": "37239345-dc26-4dc9-85ec-8a8d6e2ef996",
        "outputId": "c5ca510d-a095-4aeb-c188-c0bfc2b342e7"
      },
      "outputs": [
        {
          "name": "stdout",
          "output_type": "stream",
          "text": [
            "Defaulting to user installation because normal site-packages is not writeable\n",
            "Requirement already satisfied: pandas in c:\\programdata\\anaconda3\\lib\\site-packages (2.1.4)\n",
            "Requirement already satisfied: numpy<2,>=1.23.2 in c:\\programdata\\anaconda3\\lib\\site-packages (from pandas) (1.26.4)\n",
            "Requirement already satisfied: python-dateutil>=2.8.2 in c:\\programdata\\anaconda3\\lib\\site-packages (from pandas) (2.8.2)\n",
            "Requirement already satisfied: pytz>=2020.1 in c:\\programdata\\anaconda3\\lib\\site-packages (from pandas) (2023.3.post1)\n",
            "Requirement already satisfied: tzdata>=2022.1 in c:\\programdata\\anaconda3\\lib\\site-packages (from pandas) (2023.3)\n",
            "Requirement already satisfied: six>=1.5 in c:\\programdata\\anaconda3\\lib\\site-packages (from python-dateutil>=2.8.2->pandas) (1.16.0)\n"
          ]
        }
      ],
      "source": [
        "!pip install pandas"
      ]
    },
    {
      "cell_type": "code",
      "execution_count": null,
      "id": "7e69456c-4c57-4c1a-8602-8acb970196a3",
      "metadata": {
        "id": "7e69456c-4c57-4c1a-8602-8acb970196a3"
      },
      "outputs": [],
      "source": [
        "import pandas as pd\n"
      ]
    },
    {
      "cell_type": "code",
      "execution_count": null,
      "id": "7dc66ff5-e8eb-496f-aea5-768008ed8f55",
      "metadata": {
        "id": "7dc66ff5-e8eb-496f-aea5-768008ed8f55"
      },
      "outputs": [],
      "source": [
        "response= pd.read_csv('Retail_Data_Response.csv')"
      ]
    },
    {
      "cell_type": "code",
      "execution_count": null,
      "id": "54e80487-ef59-4b64-a3c9-68925007c310",
      "metadata": {
        "id": "54e80487-ef59-4b64-a3c9-68925007c310",
        "outputId": "a3410054-b3cb-409e-ae6b-9966a86d2c2d"
      },
      "outputs": [
        {
          "data": {
            "text/html": [
              "<div>\n",
              "<style scoped>\n",
              "    .dataframe tbody tr th:only-of-type {\n",
              "        vertical-align: middle;\n",
              "    }\n",
              "\n",
              "    .dataframe tbody tr th {\n",
              "        vertical-align: top;\n",
              "    }\n",
              "\n",
              "    .dataframe thead th {\n",
              "        text-align: right;\n",
              "    }\n",
              "</style>\n",
              "<table border=\"1\" class=\"dataframe\">\n",
              "  <thead>\n",
              "    <tr style=\"text-align: right;\">\n",
              "      <th></th>\n",
              "      <th>customer_id</th>\n",
              "      <th>response</th>\n",
              "    </tr>\n",
              "  </thead>\n",
              "  <tbody>\n",
              "    <tr>\n",
              "      <th>0</th>\n",
              "      <td>CS1112</td>\n",
              "      <td>0</td>\n",
              "    </tr>\n",
              "    <tr>\n",
              "      <th>1</th>\n",
              "      <td>CS1113</td>\n",
              "      <td>0</td>\n",
              "    </tr>\n",
              "    <tr>\n",
              "      <th>2</th>\n",
              "      <td>CS1114</td>\n",
              "      <td>1</td>\n",
              "    </tr>\n",
              "    <tr>\n",
              "      <th>3</th>\n",
              "      <td>CS1115</td>\n",
              "      <td>1</td>\n",
              "    </tr>\n",
              "    <tr>\n",
              "      <th>4</th>\n",
              "      <td>CS1116</td>\n",
              "      <td>1</td>\n",
              "    </tr>\n",
              "    <tr>\n",
              "      <th>...</th>\n",
              "      <td>...</td>\n",
              "      <td>...</td>\n",
              "    </tr>\n",
              "    <tr>\n",
              "      <th>6879</th>\n",
              "      <td>CS8996</td>\n",
              "      <td>0</td>\n",
              "    </tr>\n",
              "    <tr>\n",
              "      <th>6880</th>\n",
              "      <td>CS8997</td>\n",
              "      <td>0</td>\n",
              "    </tr>\n",
              "    <tr>\n",
              "      <th>6881</th>\n",
              "      <td>CS8998</td>\n",
              "      <td>0</td>\n",
              "    </tr>\n",
              "    <tr>\n",
              "      <th>6882</th>\n",
              "      <td>CS8999</td>\n",
              "      <td>0</td>\n",
              "    </tr>\n",
              "    <tr>\n",
              "      <th>6883</th>\n",
              "      <td>CS9000</td>\n",
              "      <td>0</td>\n",
              "    </tr>\n",
              "  </tbody>\n",
              "</table>\n",
              "<p>6884 rows × 2 columns</p>\n",
              "</div>"
            ],
            "text/plain": [
              "     customer_id  response\n",
              "0         CS1112         0\n",
              "1         CS1113         0\n",
              "2         CS1114         1\n",
              "3         CS1115         1\n",
              "4         CS1116         1\n",
              "...          ...       ...\n",
              "6879      CS8996         0\n",
              "6880      CS8997         0\n",
              "6881      CS8998         0\n",
              "6882      CS8999         0\n",
              "6883      CS9000         0\n",
              "\n",
              "[6884 rows x 2 columns]"
            ]
          },
          "execution_count": 4,
          "metadata": {},
          "output_type": "execute_result"
        }
      ],
      "source": [
        "response"
      ]
    },
    {
      "cell_type": "code",
      "execution_count": null,
      "id": "02525b02-ec96-4bac-bcd8-fef2b6ed60aa",
      "metadata": {
        "id": "02525b02-ec96-4bac-bcd8-fef2b6ed60aa"
      },
      "outputs": [],
      "source": [
        "trxn= pd.read_csv('Retail_Data_Transactions.csv')"
      ]
    },
    {
      "cell_type": "code",
      "execution_count": null,
      "id": "7982e97f-f8c4-4031-9bc0-b342d9fd8122",
      "metadata": {
        "id": "7982e97f-f8c4-4031-9bc0-b342d9fd8122",
        "outputId": "928b6a78-3b57-4b28-93cb-74a78c54d577"
      },
      "outputs": [
        {
          "data": {
            "text/html": [
              "<div>\n",
              "<style scoped>\n",
              "    .dataframe tbody tr th:only-of-type {\n",
              "        vertical-align: middle;\n",
              "    }\n",
              "\n",
              "    .dataframe tbody tr th {\n",
              "        vertical-align: top;\n",
              "    }\n",
              "\n",
              "    .dataframe thead th {\n",
              "        text-align: right;\n",
              "    }\n",
              "</style>\n",
              "<table border=\"1\" class=\"dataframe\">\n",
              "  <thead>\n",
              "    <tr style=\"text-align: right;\">\n",
              "      <th></th>\n",
              "      <th>customer_id</th>\n",
              "      <th>trans_date</th>\n",
              "      <th>tran_amount</th>\n",
              "    </tr>\n",
              "  </thead>\n",
              "  <tbody>\n",
              "    <tr>\n",
              "      <th>0</th>\n",
              "      <td>CS5295</td>\n",
              "      <td>11-Feb-13</td>\n",
              "      <td>35</td>\n",
              "    </tr>\n",
              "    <tr>\n",
              "      <th>1</th>\n",
              "      <td>CS4768</td>\n",
              "      <td>15-Mar-15</td>\n",
              "      <td>39</td>\n",
              "    </tr>\n",
              "    <tr>\n",
              "      <th>2</th>\n",
              "      <td>CS2122</td>\n",
              "      <td>26-Feb-13</td>\n",
              "      <td>52</td>\n",
              "    </tr>\n",
              "    <tr>\n",
              "      <th>3</th>\n",
              "      <td>CS1217</td>\n",
              "      <td>16-Nov-11</td>\n",
              "      <td>99</td>\n",
              "    </tr>\n",
              "    <tr>\n",
              "      <th>4</th>\n",
              "      <td>CS1850</td>\n",
              "      <td>20-Nov-13</td>\n",
              "      <td>78</td>\n",
              "    </tr>\n",
              "    <tr>\n",
              "      <th>...</th>\n",
              "      <td>...</td>\n",
              "      <td>...</td>\n",
              "      <td>...</td>\n",
              "    </tr>\n",
              "    <tr>\n",
              "      <th>124995</th>\n",
              "      <td>CS8433</td>\n",
              "      <td>26-Jun-11</td>\n",
              "      <td>64</td>\n",
              "    </tr>\n",
              "    <tr>\n",
              "      <th>124996</th>\n",
              "      <td>CS7232</td>\n",
              "      <td>19-Aug-14</td>\n",
              "      <td>38</td>\n",
              "    </tr>\n",
              "    <tr>\n",
              "      <th>124997</th>\n",
              "      <td>CS8731</td>\n",
              "      <td>28-Nov-14</td>\n",
              "      <td>42</td>\n",
              "    </tr>\n",
              "    <tr>\n",
              "      <th>124998</th>\n",
              "      <td>CS8133</td>\n",
              "      <td>14-Dec-13</td>\n",
              "      <td>13</td>\n",
              "    </tr>\n",
              "    <tr>\n",
              "      <th>124999</th>\n",
              "      <td>CS7996</td>\n",
              "      <td>13-Dec-14</td>\n",
              "      <td>36</td>\n",
              "    </tr>\n",
              "  </tbody>\n",
              "</table>\n",
              "<p>125000 rows × 3 columns</p>\n",
              "</div>"
            ],
            "text/plain": [
              "       customer_id trans_date  tran_amount\n",
              "0           CS5295  11-Feb-13           35\n",
              "1           CS4768  15-Mar-15           39\n",
              "2           CS2122  26-Feb-13           52\n",
              "3           CS1217  16-Nov-11           99\n",
              "4           CS1850  20-Nov-13           78\n",
              "...            ...        ...          ...\n",
              "124995      CS8433  26-Jun-11           64\n",
              "124996      CS7232  19-Aug-14           38\n",
              "124997      CS8731  28-Nov-14           42\n",
              "124998      CS8133  14-Dec-13           13\n",
              "124999      CS7996  13-Dec-14           36\n",
              "\n",
              "[125000 rows x 3 columns]"
            ]
          },
          "execution_count": 6,
          "metadata": {},
          "output_type": "execute_result"
        }
      ],
      "source": [
        "trxn"
      ]
    },
    {
      "cell_type": "code",
      "execution_count": null,
      "id": "2b9034bd-2dbd-4fc2-a3d4-7dd00942aba6",
      "metadata": {
        "id": "2b9034bd-2dbd-4fc2-a3d4-7dd00942aba6",
        "outputId": "4b8ff250-12db-4379-e119-73de11dc89ef"
      },
      "outputs": [
        {
          "data": {
            "text/html": [
              "<div>\n",
              "<style scoped>\n",
              "    .dataframe tbody tr th:only-of-type {\n",
              "        vertical-align: middle;\n",
              "    }\n",
              "\n",
              "    .dataframe tbody tr th {\n",
              "        vertical-align: top;\n",
              "    }\n",
              "\n",
              "    .dataframe thead th {\n",
              "        text-align: right;\n",
              "    }\n",
              "</style>\n",
              "<table border=\"1\" class=\"dataframe\">\n",
              "  <thead>\n",
              "    <tr style=\"text-align: right;\">\n",
              "      <th></th>\n",
              "      <th>customer_id</th>\n",
              "      <th>trans_date</th>\n",
              "      <th>tran_amount</th>\n",
              "      <th>response</th>\n",
              "    </tr>\n",
              "  </thead>\n",
              "  <tbody>\n",
              "    <tr>\n",
              "      <th>0</th>\n",
              "      <td>CS5295</td>\n",
              "      <td>11-Feb-13</td>\n",
              "      <td>35</td>\n",
              "      <td>1.0</td>\n",
              "    </tr>\n",
              "    <tr>\n",
              "      <th>1</th>\n",
              "      <td>CS4768</td>\n",
              "      <td>15-Mar-15</td>\n",
              "      <td>39</td>\n",
              "      <td>1.0</td>\n",
              "    </tr>\n",
              "    <tr>\n",
              "      <th>2</th>\n",
              "      <td>CS2122</td>\n",
              "      <td>26-Feb-13</td>\n",
              "      <td>52</td>\n",
              "      <td>0.0</td>\n",
              "    </tr>\n",
              "    <tr>\n",
              "      <th>3</th>\n",
              "      <td>CS1217</td>\n",
              "      <td>16-Nov-11</td>\n",
              "      <td>99</td>\n",
              "      <td>0.0</td>\n",
              "    </tr>\n",
              "    <tr>\n",
              "      <th>4</th>\n",
              "      <td>CS1850</td>\n",
              "      <td>20-Nov-13</td>\n",
              "      <td>78</td>\n",
              "      <td>0.0</td>\n",
              "    </tr>\n",
              "    <tr>\n",
              "      <th>...</th>\n",
              "      <td>...</td>\n",
              "      <td>...</td>\n",
              "      <td>...</td>\n",
              "      <td>...</td>\n",
              "    </tr>\n",
              "    <tr>\n",
              "      <th>124995</th>\n",
              "      <td>CS8433</td>\n",
              "      <td>26-Jun-11</td>\n",
              "      <td>64</td>\n",
              "      <td>0.0</td>\n",
              "    </tr>\n",
              "    <tr>\n",
              "      <th>124996</th>\n",
              "      <td>CS7232</td>\n",
              "      <td>19-Aug-14</td>\n",
              "      <td>38</td>\n",
              "      <td>0.0</td>\n",
              "    </tr>\n",
              "    <tr>\n",
              "      <th>124997</th>\n",
              "      <td>CS8731</td>\n",
              "      <td>28-Nov-14</td>\n",
              "      <td>42</td>\n",
              "      <td>0.0</td>\n",
              "    </tr>\n",
              "    <tr>\n",
              "      <th>124998</th>\n",
              "      <td>CS8133</td>\n",
              "      <td>14-Dec-13</td>\n",
              "      <td>13</td>\n",
              "      <td>0.0</td>\n",
              "    </tr>\n",
              "    <tr>\n",
              "      <th>124999</th>\n",
              "      <td>CS7996</td>\n",
              "      <td>13-Dec-14</td>\n",
              "      <td>36</td>\n",
              "      <td>0.0</td>\n",
              "    </tr>\n",
              "  </tbody>\n",
              "</table>\n",
              "<p>125000 rows × 4 columns</p>\n",
              "</div>"
            ],
            "text/plain": [
              "       customer_id trans_date  tran_amount  response\n",
              "0           CS5295  11-Feb-13           35       1.0\n",
              "1           CS4768  15-Mar-15           39       1.0\n",
              "2           CS2122  26-Feb-13           52       0.0\n",
              "3           CS1217  16-Nov-11           99       0.0\n",
              "4           CS1850  20-Nov-13           78       0.0\n",
              "...            ...        ...          ...       ...\n",
              "124995      CS8433  26-Jun-11           64       0.0\n",
              "124996      CS7232  19-Aug-14           38       0.0\n",
              "124997      CS8731  28-Nov-14           42       0.0\n",
              "124998      CS8133  14-Dec-13           13       0.0\n",
              "124999      CS7996  13-Dec-14           36       0.0\n",
              "\n",
              "[125000 rows x 4 columns]"
            ]
          },
          "execution_count": 7,
          "metadata": {},
          "output_type": "execute_result"
        }
      ],
      "source": [
        "df= trxn.merge(response, on='customer_id', how='left')\n",
        "df"
      ]
    },
    {
      "cell_type": "code",
      "execution_count": null,
      "id": "b8581b33-cd56-4959-9ee3-cf8704c0eb95",
      "metadata": {
        "id": "b8581b33-cd56-4959-9ee3-cf8704c0eb95",
        "outputId": "4b6ef569-67d4-4ca8-d320-fe21522e42f6"
      },
      "outputs": [
        {
          "data": {
            "text/html": [
              "<div>\n",
              "<style scoped>\n",
              "    .dataframe tbody tr th:only-of-type {\n",
              "        vertical-align: middle;\n",
              "    }\n",
              "\n",
              "    .dataframe tbody tr th {\n",
              "        vertical-align: top;\n",
              "    }\n",
              "\n",
              "    .dataframe thead th {\n",
              "        text-align: right;\n",
              "    }\n",
              "</style>\n",
              "<table border=\"1\" class=\"dataframe\">\n",
              "  <thead>\n",
              "    <tr style=\"text-align: right;\">\n",
              "      <th></th>\n",
              "      <th>customer_id</th>\n",
              "      <th>trans_date</th>\n",
              "      <th>tran_amount</th>\n",
              "      <th>response</th>\n",
              "    </tr>\n",
              "  </thead>\n",
              "  <tbody>\n",
              "    <tr>\n",
              "      <th>124995</th>\n",
              "      <td>CS8433</td>\n",
              "      <td>26-Jun-11</td>\n",
              "      <td>64</td>\n",
              "      <td>0.0</td>\n",
              "    </tr>\n",
              "    <tr>\n",
              "      <th>124996</th>\n",
              "      <td>CS7232</td>\n",
              "      <td>19-Aug-14</td>\n",
              "      <td>38</td>\n",
              "      <td>0.0</td>\n",
              "    </tr>\n",
              "    <tr>\n",
              "      <th>124997</th>\n",
              "      <td>CS8731</td>\n",
              "      <td>28-Nov-14</td>\n",
              "      <td>42</td>\n",
              "      <td>0.0</td>\n",
              "    </tr>\n",
              "    <tr>\n",
              "      <th>124998</th>\n",
              "      <td>CS8133</td>\n",
              "      <td>14-Dec-13</td>\n",
              "      <td>13</td>\n",
              "      <td>0.0</td>\n",
              "    </tr>\n",
              "    <tr>\n",
              "      <th>124999</th>\n",
              "      <td>CS7996</td>\n",
              "      <td>13-Dec-14</td>\n",
              "      <td>36</td>\n",
              "      <td>0.0</td>\n",
              "    </tr>\n",
              "  </tbody>\n",
              "</table>\n",
              "</div>"
            ],
            "text/plain": [
              "       customer_id trans_date  tran_amount  response\n",
              "124995      CS8433  26-Jun-11           64       0.0\n",
              "124996      CS7232  19-Aug-14           38       0.0\n",
              "124997      CS8731  28-Nov-14           42       0.0\n",
              "124998      CS8133  14-Dec-13           13       0.0\n",
              "124999      CS7996  13-Dec-14           36       0.0"
            ]
          },
          "execution_count": 8,
          "metadata": {},
          "output_type": "execute_result"
        }
      ],
      "source": [
        "# features\n",
        "\n",
        "df.dtypes\n",
        "df.shape\n",
        "df.tail()"
      ]
    },
    {
      "cell_type": "code",
      "execution_count": null,
      "id": "2fc4014b-9a0b-458f-a584-be8ce08c6ef5",
      "metadata": {
        "id": "2fc4014b-9a0b-458f-a584-be8ce08c6ef5",
        "outputId": "e952dfb3-4894-4e4d-dbfc-9c0bc680fca2"
      },
      "outputs": [
        {
          "data": {
            "text/html": [
              "<div>\n",
              "<style scoped>\n",
              "    .dataframe tbody tr th:only-of-type {\n",
              "        vertical-align: middle;\n",
              "    }\n",
              "\n",
              "    .dataframe tbody tr th {\n",
              "        vertical-align: top;\n",
              "    }\n",
              "\n",
              "    .dataframe thead th {\n",
              "        text-align: right;\n",
              "    }\n",
              "</style>\n",
              "<table border=\"1\" class=\"dataframe\">\n",
              "  <thead>\n",
              "    <tr style=\"text-align: right;\">\n",
              "      <th></th>\n",
              "      <th>tran_amount</th>\n",
              "      <th>response</th>\n",
              "    </tr>\n",
              "  </thead>\n",
              "  <tbody>\n",
              "    <tr>\n",
              "      <th>count</th>\n",
              "      <td>125000.000000</td>\n",
              "      <td>124969.000000</td>\n",
              "    </tr>\n",
              "    <tr>\n",
              "      <th>mean</th>\n",
              "      <td>64.991912</td>\n",
              "      <td>0.110763</td>\n",
              "    </tr>\n",
              "    <tr>\n",
              "      <th>std</th>\n",
              "      <td>22.860006</td>\n",
              "      <td>0.313840</td>\n",
              "    </tr>\n",
              "    <tr>\n",
              "      <th>min</th>\n",
              "      <td>10.000000</td>\n",
              "      <td>0.000000</td>\n",
              "    </tr>\n",
              "    <tr>\n",
              "      <th>25%</th>\n",
              "      <td>47.000000</td>\n",
              "      <td>0.000000</td>\n",
              "    </tr>\n",
              "    <tr>\n",
              "      <th>50%</th>\n",
              "      <td>65.000000</td>\n",
              "      <td>0.000000</td>\n",
              "    </tr>\n",
              "    <tr>\n",
              "      <th>75%</th>\n",
              "      <td>83.000000</td>\n",
              "      <td>0.000000</td>\n",
              "    </tr>\n",
              "    <tr>\n",
              "      <th>max</th>\n",
              "      <td>105.000000</td>\n",
              "      <td>1.000000</td>\n",
              "    </tr>\n",
              "  </tbody>\n",
              "</table>\n",
              "</div>"
            ],
            "text/plain": [
              "         tran_amount       response\n",
              "count  125000.000000  124969.000000\n",
              "mean       64.991912       0.110763\n",
              "std        22.860006       0.313840\n",
              "min        10.000000       0.000000\n",
              "25%        47.000000       0.000000\n",
              "50%        65.000000       0.000000\n",
              "75%        83.000000       0.000000\n",
              "max       105.000000       1.000000"
            ]
          },
          "execution_count": 9,
          "metadata": {},
          "output_type": "execute_result"
        }
      ],
      "source": [
        "df.describe()"
      ]
    },
    {
      "cell_type": "code",
      "execution_count": null,
      "id": "9a72cd0a-ecad-45c3-8aee-e046fe26cac1",
      "metadata": {
        "id": "9a72cd0a-ecad-45c3-8aee-e046fe26cac1",
        "outputId": "2d44a248-0cd7-44b9-83a7-d917ce8c9493"
      },
      "outputs": [
        {
          "data": {
            "text/plain": [
              "customer_id     0\n",
              "trans_date      0\n",
              "tran_amount     0\n",
              "response       31\n",
              "dtype: int64"
            ]
          },
          "execution_count": 10,
          "metadata": {},
          "output_type": "execute_result"
        }
      ],
      "source": [
        "# MISSING VALUES\n",
        "\n",
        "df.isnull().sum()\n"
      ]
    },
    {
      "cell_type": "code",
      "execution_count": null,
      "id": "0fda1f1f-739b-4e42-bf20-f10df210a61c",
      "metadata": {
        "id": "0fda1f1f-739b-4e42-bf20-f10df210a61c",
        "outputId": "2cd0ae20-fee2-42f8-954e-0ba12daba9be"
      },
      "outputs": [
        {
          "data": {
            "text/plain": [
              "0.024800000000000003"
            ]
          },
          "execution_count": 11,
          "metadata": {},
          "output_type": "execute_result"
        }
      ],
      "source": [
        "31/125000*100"
      ]
    },
    {
      "cell_type": "code",
      "execution_count": null,
      "id": "4bef4dc2-596a-44b1-ab3f-beaabc7a0496",
      "metadata": {
        "id": "4bef4dc2-596a-44b1-ab3f-beaabc7a0496",
        "outputId": "5eac642c-e2a3-40f0-ffd8-9a9ea43633d3"
      },
      "outputs": [
        {
          "data": {
            "text/html": [
              "<div>\n",
              "<style scoped>\n",
              "    .dataframe tbody tr th:only-of-type {\n",
              "        vertical-align: middle;\n",
              "    }\n",
              "\n",
              "    .dataframe tbody tr th {\n",
              "        vertical-align: top;\n",
              "    }\n",
              "\n",
              "    .dataframe thead th {\n",
              "        text-align: right;\n",
              "    }\n",
              "</style>\n",
              "<table border=\"1\" class=\"dataframe\">\n",
              "  <thead>\n",
              "    <tr style=\"text-align: right;\">\n",
              "      <th></th>\n",
              "      <th>customer_id</th>\n",
              "      <th>trans_date</th>\n",
              "      <th>tran_amount</th>\n",
              "      <th>response</th>\n",
              "    </tr>\n",
              "  </thead>\n",
              "  <tbody>\n",
              "    <tr>\n",
              "      <th>0</th>\n",
              "      <td>CS5295</td>\n",
              "      <td>11-Feb-13</td>\n",
              "      <td>35</td>\n",
              "      <td>1.0</td>\n",
              "    </tr>\n",
              "    <tr>\n",
              "      <th>1</th>\n",
              "      <td>CS4768</td>\n",
              "      <td>15-Mar-15</td>\n",
              "      <td>39</td>\n",
              "      <td>1.0</td>\n",
              "    </tr>\n",
              "    <tr>\n",
              "      <th>2</th>\n",
              "      <td>CS2122</td>\n",
              "      <td>26-Feb-13</td>\n",
              "      <td>52</td>\n",
              "      <td>0.0</td>\n",
              "    </tr>\n",
              "    <tr>\n",
              "      <th>3</th>\n",
              "      <td>CS1217</td>\n",
              "      <td>16-Nov-11</td>\n",
              "      <td>99</td>\n",
              "      <td>0.0</td>\n",
              "    </tr>\n",
              "    <tr>\n",
              "      <th>4</th>\n",
              "      <td>CS1850</td>\n",
              "      <td>20-Nov-13</td>\n",
              "      <td>78</td>\n",
              "      <td>0.0</td>\n",
              "    </tr>\n",
              "    <tr>\n",
              "      <th>...</th>\n",
              "      <td>...</td>\n",
              "      <td>...</td>\n",
              "      <td>...</td>\n",
              "      <td>...</td>\n",
              "    </tr>\n",
              "    <tr>\n",
              "      <th>124995</th>\n",
              "      <td>CS8433</td>\n",
              "      <td>26-Jun-11</td>\n",
              "      <td>64</td>\n",
              "      <td>0.0</td>\n",
              "    </tr>\n",
              "    <tr>\n",
              "      <th>124996</th>\n",
              "      <td>CS7232</td>\n",
              "      <td>19-Aug-14</td>\n",
              "      <td>38</td>\n",
              "      <td>0.0</td>\n",
              "    </tr>\n",
              "    <tr>\n",
              "      <th>124997</th>\n",
              "      <td>CS8731</td>\n",
              "      <td>28-Nov-14</td>\n",
              "      <td>42</td>\n",
              "      <td>0.0</td>\n",
              "    </tr>\n",
              "    <tr>\n",
              "      <th>124998</th>\n",
              "      <td>CS8133</td>\n",
              "      <td>14-Dec-13</td>\n",
              "      <td>13</td>\n",
              "      <td>0.0</td>\n",
              "    </tr>\n",
              "    <tr>\n",
              "      <th>124999</th>\n",
              "      <td>CS7996</td>\n",
              "      <td>13-Dec-14</td>\n",
              "      <td>36</td>\n",
              "      <td>0.0</td>\n",
              "    </tr>\n",
              "  </tbody>\n",
              "</table>\n",
              "<p>124969 rows × 4 columns</p>\n",
              "</div>"
            ],
            "text/plain": [
              "       customer_id trans_date  tran_amount  response\n",
              "0           CS5295  11-Feb-13           35       1.0\n",
              "1           CS4768  15-Mar-15           39       1.0\n",
              "2           CS2122  26-Feb-13           52       0.0\n",
              "3           CS1217  16-Nov-11           99       0.0\n",
              "4           CS1850  20-Nov-13           78       0.0\n",
              "...            ...        ...          ...       ...\n",
              "124995      CS8433  26-Jun-11           64       0.0\n",
              "124996      CS7232  19-Aug-14           38       0.0\n",
              "124997      CS8731  28-Nov-14           42       0.0\n",
              "124998      CS8133  14-Dec-13           13       0.0\n",
              "124999      CS7996  13-Dec-14           36       0.0\n",
              "\n",
              "[124969 rows x 4 columns]"
            ]
          },
          "execution_count": 12,
          "metadata": {},
          "output_type": "execute_result"
        }
      ],
      "source": [
        "df=df.dropna()\n",
        "df"
      ]
    },
    {
      "cell_type": "code",
      "execution_count": null,
      "id": "69de2903-d413-4661-9ebc-139163067c3a",
      "metadata": {
        "id": "69de2903-d413-4661-9ebc-139163067c3a",
        "outputId": "d9e055c8-8888-4d2f-ea8f-502505f8adcb"
      },
      "outputs": [
        {
          "name": "stderr",
          "output_type": "stream",
          "text": [
            "C:\\Users\\User\\AppData\\Local\\Temp\\ipykernel_10720\\3970496974.py:2: UserWarning: Could not infer format, so each element will be parsed individually, falling back to `dateutil`. To ensure parsing is consistent and as-expected, please specify a format.\n",
            "  df['trans_date']= pd.to_datetime(df['trans_date'])\n",
            "C:\\Users\\User\\AppData\\Local\\Temp\\ipykernel_10720\\3970496974.py:2: SettingWithCopyWarning: \n",
            "A value is trying to be set on a copy of a slice from a DataFrame.\n",
            "Try using .loc[row_indexer,col_indexer] = value instead\n",
            "\n",
            "See the caveats in the documentation: https://pandas.pydata.org/pandas-docs/stable/user_guide/indexing.html#returning-a-view-versus-a-copy\n",
            "  df['trans_date']= pd.to_datetime(df['trans_date'])\n",
            "C:\\Users\\User\\AppData\\Local\\Temp\\ipykernel_10720\\3970496974.py:3: SettingWithCopyWarning: \n",
            "A value is trying to be set on a copy of a slice from a DataFrame.\n",
            "Try using .loc[row_indexer,col_indexer] = value instead\n",
            "\n",
            "See the caveats in the documentation: https://pandas.pydata.org/pandas-docs/stable/user_guide/indexing.html#returning-a-view-versus-a-copy\n",
            "  df['response']= df ['response'].astype ('int64')\n"
          ]
        }
      ],
      "source": [
        "# change dtypes\n",
        "df['trans_date']= pd.to_datetime(df['trans_date'])\n",
        "df['response']= df ['response'].astype ('int64')"
      ]
    },
    {
      "cell_type": "code",
      "execution_count": null,
      "id": "15c827a1-3398-4366-acdf-d15962493658",
      "metadata": {
        "id": "15c827a1-3398-4366-acdf-d15962493658",
        "outputId": "c604ee69-dfc4-4f66-f66a-51f1df8df103"
      },
      "outputs": [
        {
          "data": {
            "text/html": [
              "<div>\n",
              "<style scoped>\n",
              "    .dataframe tbody tr th:only-of-type {\n",
              "        vertical-align: middle;\n",
              "    }\n",
              "\n",
              "    .dataframe tbody tr th {\n",
              "        vertical-align: top;\n",
              "    }\n",
              "\n",
              "    .dataframe thead th {\n",
              "        text-align: right;\n",
              "    }\n",
              "</style>\n",
              "<table border=\"1\" class=\"dataframe\">\n",
              "  <thead>\n",
              "    <tr style=\"text-align: right;\">\n",
              "      <th></th>\n",
              "      <th>customer_id</th>\n",
              "      <th>trans_date</th>\n",
              "      <th>tran_amount</th>\n",
              "      <th>response</th>\n",
              "    </tr>\n",
              "  </thead>\n",
              "  <tbody>\n",
              "    <tr>\n",
              "      <th>0</th>\n",
              "      <td>CS5295</td>\n",
              "      <td>2013-02-11</td>\n",
              "      <td>35</td>\n",
              "      <td>1</td>\n",
              "    </tr>\n",
              "    <tr>\n",
              "      <th>1</th>\n",
              "      <td>CS4768</td>\n",
              "      <td>2015-03-15</td>\n",
              "      <td>39</td>\n",
              "      <td>1</td>\n",
              "    </tr>\n",
              "    <tr>\n",
              "      <th>2</th>\n",
              "      <td>CS2122</td>\n",
              "      <td>2013-02-26</td>\n",
              "      <td>52</td>\n",
              "      <td>0</td>\n",
              "    </tr>\n",
              "    <tr>\n",
              "      <th>3</th>\n",
              "      <td>CS1217</td>\n",
              "      <td>2011-11-16</td>\n",
              "      <td>99</td>\n",
              "      <td>0</td>\n",
              "    </tr>\n",
              "    <tr>\n",
              "      <th>4</th>\n",
              "      <td>CS1850</td>\n",
              "      <td>2013-11-20</td>\n",
              "      <td>78</td>\n",
              "      <td>0</td>\n",
              "    </tr>\n",
              "    <tr>\n",
              "      <th>...</th>\n",
              "      <td>...</td>\n",
              "      <td>...</td>\n",
              "      <td>...</td>\n",
              "      <td>...</td>\n",
              "    </tr>\n",
              "    <tr>\n",
              "      <th>124995</th>\n",
              "      <td>CS8433</td>\n",
              "      <td>2011-06-26</td>\n",
              "      <td>64</td>\n",
              "      <td>0</td>\n",
              "    </tr>\n",
              "    <tr>\n",
              "      <th>124996</th>\n",
              "      <td>CS7232</td>\n",
              "      <td>2014-08-19</td>\n",
              "      <td>38</td>\n",
              "      <td>0</td>\n",
              "    </tr>\n",
              "    <tr>\n",
              "      <th>124997</th>\n",
              "      <td>CS8731</td>\n",
              "      <td>2014-11-28</td>\n",
              "      <td>42</td>\n",
              "      <td>0</td>\n",
              "    </tr>\n",
              "    <tr>\n",
              "      <th>124998</th>\n",
              "      <td>CS8133</td>\n",
              "      <td>2013-12-14</td>\n",
              "      <td>13</td>\n",
              "      <td>0</td>\n",
              "    </tr>\n",
              "    <tr>\n",
              "      <th>124999</th>\n",
              "      <td>CS7996</td>\n",
              "      <td>2014-12-13</td>\n",
              "      <td>36</td>\n",
              "      <td>0</td>\n",
              "    </tr>\n",
              "  </tbody>\n",
              "</table>\n",
              "<p>124969 rows × 4 columns</p>\n",
              "</div>"
            ],
            "text/plain": [
              "       customer_id trans_date  tran_amount  response\n",
              "0           CS5295 2013-02-11           35         1\n",
              "1           CS4768 2015-03-15           39         1\n",
              "2           CS2122 2013-02-26           52         0\n",
              "3           CS1217 2011-11-16           99         0\n",
              "4           CS1850 2013-11-20           78         0\n",
              "...            ...        ...          ...       ...\n",
              "124995      CS8433 2011-06-26           64         0\n",
              "124996      CS7232 2014-08-19           38         0\n",
              "124997      CS8731 2014-11-28           42         0\n",
              "124998      CS8133 2013-12-14           13         0\n",
              "124999      CS7996 2014-12-13           36         0\n",
              "\n",
              "[124969 rows x 4 columns]"
            ]
          },
          "execution_count": 14,
          "metadata": {},
          "output_type": "execute_result"
        }
      ],
      "source": [
        "df"
      ]
    },
    {
      "cell_type": "code",
      "execution_count": null,
      "id": "8f320480-db19-4b6b-81a7-b09b31f62166",
      "metadata": {
        "id": "8f320480-db19-4b6b-81a7-b09b31f62166",
        "outputId": "d511df57-768c-4877-9a17-7effdde27523"
      },
      "outputs": [
        {
          "data": {
            "text/plain": [
              "{0, 1}"
            ]
          },
          "execution_count": 15,
          "metadata": {},
          "output_type": "execute_result"
        }
      ],
      "source": [
        "set(df['response'])"
      ]
    },
    {
      "cell_type": "code",
      "execution_count": null,
      "id": "d6ebfb58-09f3-4057-b887-4e310c9fc930",
      "metadata": {
        "id": "d6ebfb58-09f3-4057-b887-4e310c9fc930",
        "outputId": "a7311c1a-cf74-4af0-e10d-740843b38f50"
      },
      "outputs": [
        {
          "data": {
            "text/plain": [
              "customer_id            object\n",
              "trans_date     datetime64[ns]\n",
              "tran_amount             int64\n",
              "response                int64\n",
              "dtype: object"
            ]
          },
          "execution_count": 16,
          "metadata": {},
          "output_type": "execute_result"
        }
      ],
      "source": [
        "df.dtypes"
      ]
    },
    {
      "cell_type": "code",
      "execution_count": null,
      "id": "1c27943a-e77c-4c4f-b76c-c745b6d1e958",
      "metadata": {
        "id": "1c27943a-e77c-4c4f-b76c-c745b6d1e958",
        "outputId": "aaa9abe7-f7f8-4369-a301-bb13d2a9236d"
      },
      "outputs": [
        {
          "name": "stdout",
          "output_type": "stream",
          "text": [
            "Empty DataFrame\n",
            "Columns: [customer_id, trans_date, tran_amount, response]\n",
            "Index: []\n"
          ]
        }
      ],
      "source": [
        "# check for outliers\n",
        "#Z-SCORE\n",
        "\n",
        "from scipy import stats\n",
        "import numpy as np\n",
        "\n",
        "#calc z score\n",
        "z_score= np.abs(stats.zscore(df['tran_amount']))\n",
        "\n",
        "#set a threshold\n",
        "threshold= 3\n",
        "outliers= z_score>threshold\n",
        "\n",
        "print(df[outliers])"
      ]
    },
    {
      "cell_type": "code",
      "execution_count": null,
      "id": "00996e71-a094-49ed-b17b-217f6a431ae8",
      "metadata": {
        "id": "00996e71-a094-49ed-b17b-217f6a431ae8",
        "outputId": "2ccd3cf7-1007-424d-eb34-5ae01a5a23f4"
      },
      "outputs": [
        {
          "name": "stdout",
          "output_type": "stream",
          "text": [
            "Empty DataFrame\n",
            "Columns: [customer_id, trans_date, tran_amount, response]\n",
            "Index: []\n"
          ]
        }
      ],
      "source": [
        "# check for outliers\n",
        "#Z-SCORE\n",
        "\n",
        "from scipy import stats\n",
        "import numpy as np\n",
        "\n",
        "#calc z score\n",
        "z_scores= np.abs(stats.zscore(df['response']))\n",
        "\n",
        "#set a threshold\n",
        "threshold = 3\n",
        "\n",
        "outliers= z_score>threshold\n",
        "\n",
        "print (df[outliers])"
      ]
    },
    {
      "cell_type": "code",
      "execution_count": null,
      "id": "c931ed7d-93d6-4b64-a491-e75d53e39ae4",
      "metadata": {
        "id": "c931ed7d-93d6-4b64-a491-e75d53e39ae4",
        "outputId": "3189c6c3-dd40-4c41-984f-00b05be47a61"
      },
      "outputs": [
        {
          "data": {
            "image/png": "[encoded data removed]",
            "text/plain": [
              "<Figure size 640x480 with 1 Axes>"
            ]
          },
          "metadata": {},
          "output_type": "display_data"
        }
      ],
      "source": [
        "import seaborn as sns\n",
        "import matplotlib.pyplot as plt\n",
        "\n",
        "sns.boxplot(x=df['tran_amount'])\n",
        "plt.show()"
      ]
    },
    {
      "cell_type": "code",
      "execution_count": null,
      "id": "6a162cca-ced7-428d-a24d-26c5d1568ad3",
      "metadata": {
        "scrolled": true,
        "id": "6a162cca-ced7-428d-a24d-26c5d1568ad3",
        "outputId": "10fb17d9-e001-4a78-fd0d-979e4e6ac1da"
      },
      "outputs": [
        {
          "name": "stderr",
          "output_type": "stream",
          "text": [
            "C:\\Users\\User\\AppData\\Local\\Temp\\ipykernel_10720\\2422472043.py:2: SettingWithCopyWarning: \n",
            "A value is trying to be set on a copy of a slice from a DataFrame.\n",
            "Try using .loc[row_indexer,col_indexer] = value instead\n",
            "\n",
            "See the caveats in the documentation: https://pandas.pydata.org/pandas-docs/stable/user_guide/indexing.html#returning-a-view-versus-a-copy\n",
            "  df['month'] = df['trans_date'].dt.month\n"
          ]
        },
        {
          "data": {
            "text/html": [
              "<div>\n",
              "<style scoped>\n",
              "    .dataframe tbody tr th:only-of-type {\n",
              "        vertical-align: middle;\n",
              "    }\n",
              "\n",
              "    .dataframe tbody tr th {\n",
              "        vertical-align: top;\n",
              "    }\n",
              "\n",
              "    .dataframe thead th {\n",
              "        text-align: right;\n",
              "    }\n",
              "</style>\n",
              "<table border=\"1\" class=\"dataframe\">\n",
              "  <thead>\n",
              "    <tr style=\"text-align: right;\">\n",
              "      <th></th>\n",
              "      <th>customer_id</th>\n",
              "      <th>trans_date</th>\n",
              "      <th>tran_amount</th>\n",
              "      <th>response</th>\n",
              "      <th>month</th>\n",
              "    </tr>\n",
              "  </thead>\n",
              "  <tbody>\n",
              "    <tr>\n",
              "      <th>0</th>\n",
              "      <td>CS5295</td>\n",
              "      <td>2013-02-11</td>\n",
              "      <td>35</td>\n",
              "      <td>1</td>\n",
              "      <td>2</td>\n",
              "    </tr>\n",
              "    <tr>\n",
              "      <th>1</th>\n",
              "      <td>CS4768</td>\n",
              "      <td>2015-03-15</td>\n",
              "      <td>39</td>\n",
              "      <td>1</td>\n",
              "      <td>3</td>\n",
              "    </tr>\n",
              "    <tr>\n",
              "      <th>2</th>\n",
              "      <td>CS2122</td>\n",
              "      <td>2013-02-26</td>\n",
              "      <td>52</td>\n",
              "      <td>0</td>\n",
              "      <td>2</td>\n",
              "    </tr>\n",
              "    <tr>\n",
              "      <th>3</th>\n",
              "      <td>CS1217</td>\n",
              "      <td>2011-11-16</td>\n",
              "      <td>99</td>\n",
              "      <td>0</td>\n",
              "      <td>11</td>\n",
              "    </tr>\n",
              "    <tr>\n",
              "      <th>4</th>\n",
              "      <td>CS1850</td>\n",
              "      <td>2013-11-20</td>\n",
              "      <td>78</td>\n",
              "      <td>0</td>\n",
              "      <td>11</td>\n",
              "    </tr>\n",
              "    <tr>\n",
              "      <th>...</th>\n",
              "      <td>...</td>\n",
              "      <td>...</td>\n",
              "      <td>...</td>\n",
              "      <td>...</td>\n",
              "      <td>...</td>\n",
              "    </tr>\n",
              "    <tr>\n",
              "      <th>124995</th>\n",
              "      <td>CS8433</td>\n",
              "      <td>2011-06-26</td>\n",
              "      <td>64</td>\n",
              "      <td>0</td>\n",
              "      <td>6</td>\n",
              "    </tr>\n",
              "    <tr>\n",
              "      <th>124996</th>\n",
              "      <td>CS7232</td>\n",
              "      <td>2014-08-19</td>\n",
              "      <td>38</td>\n",
              "      <td>0</td>\n",
              "      <td>8</td>\n",
              "    </tr>\n",
              "    <tr>\n",
              "      <th>124997</th>\n",
              "      <td>CS8731</td>\n",
              "      <td>2014-11-28</td>\n",
              "      <td>42</td>\n",
              "      <td>0</td>\n",
              "      <td>11</td>\n",
              "    </tr>\n",
              "    <tr>\n",
              "      <th>124998</th>\n",
              "      <td>CS8133</td>\n",
              "      <td>2013-12-14</td>\n",
              "      <td>13</td>\n",
              "      <td>0</td>\n",
              "      <td>12</td>\n",
              "    </tr>\n",
              "    <tr>\n",
              "      <th>124999</th>\n",
              "      <td>CS7996</td>\n",
              "      <td>2014-12-13</td>\n",
              "      <td>36</td>\n",
              "      <td>0</td>\n",
              "      <td>12</td>\n",
              "    </tr>\n",
              "  </tbody>\n",
              "</table>\n",
              "<p>124969 rows × 5 columns</p>\n",
              "</div>"
            ],
            "text/plain": [
              "       customer_id trans_date  tran_amount  response  month\n",
              "0           CS5295 2013-02-11           35         1      2\n",
              "1           CS4768 2015-03-15           39         1      3\n",
              "2           CS2122 2013-02-26           52         0      2\n",
              "3           CS1217 2011-11-16           99         0     11\n",
              "4           CS1850 2013-11-20           78         0     11\n",
              "...            ...        ...          ...       ...    ...\n",
              "124995      CS8433 2011-06-26           64         0      6\n",
              "124996      CS7232 2014-08-19           38         0      8\n",
              "124997      CS8731 2014-11-28           42         0     11\n",
              "124998      CS8133 2013-12-14           13         0     12\n",
              "124999      CS7996 2014-12-13           36         0     12\n",
              "\n",
              "[124969 rows x 5 columns]"
            ]
          },
          "execution_count": 20,
          "metadata": {},
          "output_type": "execute_result"
        }
      ],
      "source": [
        "# creating new colums\n",
        "df['month'] = df['trans_date'].dt.month\n",
        "df"
      ]
    },
    {
      "cell_type": "code",
      "execution_count": null,
      "id": "df430099-2371-404b-ac45-635f8eb19365",
      "metadata": {
        "id": "df430099-2371-404b-ac45-635f8eb19365",
        "outputId": "b38ae035-0210-4c35-aa56-18c5e3565bd2"
      },
      "outputs": [
        {
          "data": {
            "text/html": [
              "<div>\n",
              "<style scoped>\n",
              "    .dataframe tbody tr th:only-of-type {\n",
              "        vertical-align: middle;\n",
              "    }\n",
              "\n",
              "    .dataframe tbody tr th {\n",
              "        vertical-align: top;\n",
              "    }\n",
              "\n",
              "    .dataframe thead th {\n",
              "        text-align: right;\n",
              "    }\n",
              "</style>\n",
              "<table border=\"1\" class=\"dataframe\">\n",
              "  <thead>\n",
              "    <tr style=\"text-align: right;\">\n",
              "      <th></th>\n",
              "      <th>month</th>\n",
              "      <th>tran_amount</th>\n",
              "    </tr>\n",
              "  </thead>\n",
              "  <tbody>\n",
              "    <tr>\n",
              "      <th>0</th>\n",
              "      <td>8</td>\n",
              "      <td>726775</td>\n",
              "    </tr>\n",
              "    <tr>\n",
              "      <th>1</th>\n",
              "      <td>10</td>\n",
              "      <td>725058</td>\n",
              "    </tr>\n",
              "    <tr>\n",
              "      <th>2</th>\n",
              "      <td>1</td>\n",
              "      <td>724089</td>\n",
              "    </tr>\n",
              "    <tr>\n",
              "      <th>3</th>\n",
              "      <td>7</td>\n",
              "      <td>717011</td>\n",
              "    </tr>\n",
              "    <tr>\n",
              "      <th>4</th>\n",
              "      <td>12</td>\n",
              "      <td>709795</td>\n",
              "    </tr>\n",
              "  </tbody>\n",
              "</table>\n",
              "</div>"
            ],
            "text/plain": [
              "   month  tran_amount\n",
              "0      8       726775\n",
              "1     10       725058\n",
              "2      1       724089\n",
              "3      7       717011\n",
              "4     12       709795"
            ]
          },
          "execution_count": 21,
          "metadata": {},
          "output_type": "execute_result"
        }
      ],
      "source": [
        "# Which 3 months have had the highest transaction amounts?\n",
        "\n",
        "monthly_sales= df.groupby('month')['tran_amount'].sum()\n",
        "monthly_sales= monthly_sales.sort_values(ascending=False).reset_index().head(5)\n",
        "monthly_sales"
      ]
    },
    {
      "cell_type": "code",
      "execution_count": null,
      "id": "7fdd478d-62b6-426f-b537-73b28dac8550",
      "metadata": {
        "id": "7fdd478d-62b6-426f-b537-73b28dac8550",
        "outputId": "fe333840-8d98-4d65-fd45-eedffc6b38ce"
      },
      "outputs": [
        {
          "data": {
            "text/html": [
              "<div>\n",
              "<style scoped>\n",
              "    .dataframe tbody tr th:only-of-type {\n",
              "        vertical-align: middle;\n",
              "    }\n",
              "\n",
              "    .dataframe tbody tr th {\n",
              "        vertical-align: top;\n",
              "    }\n",
              "\n",
              "    .dataframe thead th {\n",
              "        text-align: right;\n",
              "    }\n",
              "</style>\n",
              "<table border=\"1\" class=\"dataframe\">\n",
              "  <thead>\n",
              "    <tr style=\"text-align: right;\">\n",
              "      <th></th>\n",
              "      <th>customer_id</th>\n",
              "      <th>count</th>\n",
              "    </tr>\n",
              "  </thead>\n",
              "  <tbody>\n",
              "    <tr>\n",
              "      <th>0</th>\n",
              "      <td>CS4424</td>\n",
              "      <td>39</td>\n",
              "    </tr>\n",
              "    <tr>\n",
              "      <th>1</th>\n",
              "      <td>CS4320</td>\n",
              "      <td>38</td>\n",
              "    </tr>\n",
              "    <tr>\n",
              "      <th>2</th>\n",
              "      <td>CS3799</td>\n",
              "      <td>36</td>\n",
              "    </tr>\n",
              "    <tr>\n",
              "      <th>3</th>\n",
              "      <td>CS3013</td>\n",
              "      <td>35</td>\n",
              "    </tr>\n",
              "    <tr>\n",
              "      <th>4</th>\n",
              "      <td>CS1215</td>\n",
              "      <td>35</td>\n",
              "    </tr>\n",
              "    <tr>\n",
              "      <th>...</th>\n",
              "      <td>...</td>\n",
              "      <td>...</td>\n",
              "    </tr>\n",
              "    <tr>\n",
              "      <th>6879</th>\n",
              "      <td>CS8559</td>\n",
              "      <td>4</td>\n",
              "    </tr>\n",
              "    <tr>\n",
              "      <th>6880</th>\n",
              "      <td>CS7224</td>\n",
              "      <td>4</td>\n",
              "    </tr>\n",
              "    <tr>\n",
              "      <th>6881</th>\n",
              "      <td>CS7716</td>\n",
              "      <td>4</td>\n",
              "    </tr>\n",
              "    <tr>\n",
              "      <th>6882</th>\n",
              "      <td>CS8504</td>\n",
              "      <td>4</td>\n",
              "    </tr>\n",
              "    <tr>\n",
              "      <th>6883</th>\n",
              "      <td>CS7333</td>\n",
              "      <td>4</td>\n",
              "    </tr>\n",
              "  </tbody>\n",
              "</table>\n",
              "<p>6884 rows × 2 columns</p>\n",
              "</div>"
            ],
            "text/plain": [
              "     customer_id  count\n",
              "0         CS4424     39\n",
              "1         CS4320     38\n",
              "2         CS3799     36\n",
              "3         CS3013     35\n",
              "4         CS1215     35\n",
              "...          ...    ...\n",
              "6879      CS8559      4\n",
              "6880      CS7224      4\n",
              "6881      CS7716      4\n",
              "6882      CS8504      4\n",
              "6883      CS7333      4\n",
              "\n",
              "[6884 rows x 2 columns]"
            ]
          },
          "execution_count": 22,
          "metadata": {},
          "output_type": "execute_result"
        }
      ],
      "source": [
        "# Customers having highest value of orders\n",
        "\n",
        "customer_counts= df['customer_id'].value_counts().reset_index()\n",
        "customer_counts.columns= ['customer_id','count']\n",
        "customer_counts\n",
        "\n",
        "#sort\n",
        "#top_5_cust= customer_counts.sort_values(by='count',ascending=False).head(5)\n",
        "#top_5_cust"
      ]
    },
    {
      "cell_type": "code",
      "execution_count": null,
      "id": "25d78d2c-02ec-4b07-937b-1ff246cf915d",
      "metadata": {
        "id": "25d78d2c-02ec-4b07-937b-1ff246cf915d",
        "outputId": "331f004c-15eb-46a1-9e38-ef6aafe08148"
      },
      "outputs": [
        {
          "data": {
            "text/html": [
              "<div>\n",
              "<style scoped>\n",
              "    .dataframe tbody tr th:only-of-type {\n",
              "        vertical-align: middle;\n",
              "    }\n",
              "\n",
              "    .dataframe tbody tr th {\n",
              "        vertical-align: top;\n",
              "    }\n",
              "\n",
              "    .dataframe thead th {\n",
              "        text-align: right;\n",
              "    }\n",
              "</style>\n",
              "<table border=\"1\" class=\"dataframe\">\n",
              "  <thead>\n",
              "    <tr style=\"text-align: right;\">\n",
              "      <th></th>\n",
              "      <th>customer_id</th>\n",
              "      <th>count</th>\n",
              "    </tr>\n",
              "  </thead>\n",
              "  <tbody>\n",
              "    <tr>\n",
              "      <th>0</th>\n",
              "      <td>CS4424</td>\n",
              "      <td>39</td>\n",
              "    </tr>\n",
              "    <tr>\n",
              "      <th>1</th>\n",
              "      <td>CS4320</td>\n",
              "      <td>38</td>\n",
              "    </tr>\n",
              "    <tr>\n",
              "      <th>2</th>\n",
              "      <td>CS3799</td>\n",
              "      <td>36</td>\n",
              "    </tr>\n",
              "    <tr>\n",
              "      <th>3</th>\n",
              "      <td>CS3013</td>\n",
              "      <td>35</td>\n",
              "    </tr>\n",
              "    <tr>\n",
              "      <th>4</th>\n",
              "      <td>CS1215</td>\n",
              "      <td>35</td>\n",
              "    </tr>\n",
              "  </tbody>\n",
              "</table>\n",
              "</div>"
            ],
            "text/plain": [
              "  customer_id  count\n",
              "0      CS4424     39\n",
              "1      CS4320     38\n",
              "2      CS3799     36\n",
              "3      CS3013     35\n",
              "4      CS1215     35"
            ]
          },
          "execution_count": 23,
          "metadata": {},
          "output_type": "execute_result"
        }
      ],
      "source": [
        "#sort\n",
        "top_5_cust= customer_counts.sort_values(by='count',ascending=False).head(5)\n",
        "top_5_cust"
      ]
    },
    {
      "cell_type": "code",
      "execution_count": null,
      "id": "964d9f8d-e2c3-488d-946a-1a3e3c5acb91",
      "metadata": {
        "id": "964d9f8d-e2c3-488d-946a-1a3e3c5acb91",
        "outputId": "57341fd0-0f87-4fe2-9cb5-ca1061dbd42f"
      },
      "outputs": [
        {
          "data": {
            "text/plain": [
              "<Axes: xlabel='customer_id', ylabel='count'>"
            ]
          },
          "execution_count": 24,
          "metadata": {},
          "output_type": "execute_result"
        },
        {
          "data": {
            "image/png": "[encoded data removed]",
            "text/plain": [
              "<Figure size 640x480 with 1 Axes>"
            ]
          },
          "metadata": {},
          "output_type": "display_data"
        }
      ],
      "source": [
        "sns.barplot(x='customer_id',y='count',data=top_5_cust)"
      ]
    },
    {
      "cell_type": "code",
      "execution_count": null,
      "id": "afba1119-fdd8-4ec0-acc3-a524fd833ec5",
      "metadata": {
        "id": "afba1119-fdd8-4ec0-acc3-a524fd833ec5",
        "outputId": "e374cd99-5e2c-4a16-a074-8a54a0a3b116"
      },
      "outputs": [
        {
          "data": {
            "text/html": [
              "<div>\n",
              "<style scoped>\n",
              "    .dataframe tbody tr th:only-of-type {\n",
              "        vertical-align: middle;\n",
              "    }\n",
              "\n",
              "    .dataframe tbody tr th {\n",
              "        vertical-align: top;\n",
              "    }\n",
              "\n",
              "    .dataframe thead th {\n",
              "        text-align: right;\n",
              "    }\n",
              "</style>\n",
              "<table border=\"1\" class=\"dataframe\">\n",
              "  <thead>\n",
              "    <tr style=\"text-align: right;\">\n",
              "      <th></th>\n",
              "      <th>customer_id</th>\n",
              "      <th>tran_amount</th>\n",
              "    </tr>\n",
              "  </thead>\n",
              "  <tbody>\n",
              "    <tr>\n",
              "      <th>0</th>\n",
              "      <td>CS1112</td>\n",
              "      <td>1012</td>\n",
              "    </tr>\n",
              "    <tr>\n",
              "      <th>1</th>\n",
              "      <td>CS1113</td>\n",
              "      <td>1490</td>\n",
              "    </tr>\n",
              "    <tr>\n",
              "      <th>2</th>\n",
              "      <td>CS1114</td>\n",
              "      <td>1432</td>\n",
              "    </tr>\n",
              "    <tr>\n",
              "      <th>3</th>\n",
              "      <td>CS1115</td>\n",
              "      <td>1659</td>\n",
              "    </tr>\n",
              "    <tr>\n",
              "      <th>4</th>\n",
              "      <td>CS1116</td>\n",
              "      <td>857</td>\n",
              "    </tr>\n",
              "    <tr>\n",
              "      <th>...</th>\n",
              "      <td>...</td>\n",
              "      <td>...</td>\n",
              "    </tr>\n",
              "    <tr>\n",
              "      <th>6879</th>\n",
              "      <td>CS8996</td>\n",
              "      <td>582</td>\n",
              "    </tr>\n",
              "    <tr>\n",
              "      <th>6880</th>\n",
              "      <td>CS8997</td>\n",
              "      <td>543</td>\n",
              "    </tr>\n",
              "    <tr>\n",
              "      <th>6881</th>\n",
              "      <td>CS8998</td>\n",
              "      <td>624</td>\n",
              "    </tr>\n",
              "    <tr>\n",
              "      <th>6882</th>\n",
              "      <td>CS8999</td>\n",
              "      <td>383</td>\n",
              "    </tr>\n",
              "    <tr>\n",
              "      <th>6883</th>\n",
              "      <td>CS9000</td>\n",
              "      <td>533</td>\n",
              "    </tr>\n",
              "  </tbody>\n",
              "</table>\n",
              "<p>6884 rows × 2 columns</p>\n",
              "</div>"
            ],
            "text/plain": [
              "     customer_id  tran_amount\n",
              "0         CS1112         1012\n",
              "1         CS1113         1490\n",
              "2         CS1114         1432\n",
              "3         CS1115         1659\n",
              "4         CS1116          857\n",
              "...          ...          ...\n",
              "6879      CS8996          582\n",
              "6880      CS8997          543\n",
              "6881      CS8998          624\n",
              "6882      CS8999          383\n",
              "6883      CS9000          533\n",
              "\n",
              "[6884 rows x 2 columns]"
            ]
          },
          "execution_count": 25,
          "metadata": {},
          "output_type": "execute_result"
        }
      ],
      "source": [
        "# Customers having highest num of orders\n",
        "\n",
        "customer_sales= df.groupby('customer_id')['tran_amount'].sum().reset_index()\n",
        "customer_sales"
      ]
    },
    {
      "cell_type": "code",
      "execution_count": null,
      "id": "30c4c27c-ac48-4a59-985b-1aa1dc216a5e",
      "metadata": {
        "id": "30c4c27c-ac48-4a59-985b-1aa1dc216a5e",
        "outputId": "17ff9571-cc08-4434-db14-6ccc7e38a7c3"
      },
      "outputs": [
        {
          "data": {
            "text/html": [
              "<div>\n",
              "<style scoped>\n",
              "    .dataframe tbody tr th:only-of-type {\n",
              "        vertical-align: middle;\n",
              "    }\n",
              "\n",
              "    .dataframe tbody tr th {\n",
              "        vertical-align: top;\n",
              "    }\n",
              "\n",
              "    .dataframe thead th {\n",
              "        text-align: right;\n",
              "    }\n",
              "</style>\n",
              "<table border=\"1\" class=\"dataframe\">\n",
              "  <thead>\n",
              "    <tr style=\"text-align: right;\">\n",
              "      <th></th>\n",
              "      <th>customer_id</th>\n",
              "      <th>tran_amount</th>\n",
              "    </tr>\n",
              "  </thead>\n",
              "  <tbody>\n",
              "    <tr>\n",
              "      <th>3312</th>\n",
              "      <td>CS4424</td>\n",
              "      <td>2933</td>\n",
              "    </tr>\n",
              "    <tr>\n",
              "      <th>3208</th>\n",
              "      <td>CS4320</td>\n",
              "      <td>2647</td>\n",
              "    </tr>\n",
              "    <tr>\n",
              "      <th>4640</th>\n",
              "      <td>CS5752</td>\n",
              "      <td>2612</td>\n",
              "    </tr>\n",
              "    <tr>\n",
              "      <th>3548</th>\n",
              "      <td>CS4660</td>\n",
              "      <td>2527</td>\n",
              "    </tr>\n",
              "    <tr>\n",
              "      <th>2687</th>\n",
              "      <td>CS3799</td>\n",
              "      <td>2513</td>\n",
              "    </tr>\n",
              "  </tbody>\n",
              "</table>\n",
              "</div>"
            ],
            "text/plain": [
              "     customer_id  tran_amount\n",
              "3312      CS4424         2933\n",
              "3208      CS4320         2647\n",
              "4640      CS5752         2612\n",
              "3548      CS4660         2527\n",
              "2687      CS3799         2513"
            ]
          },
          "execution_count": 26,
          "metadata": {},
          "output_type": "execute_result"
        }
      ],
      "source": [
        "#sort\n",
        "top_5_sales= customer_sales.sort_values(by='tran_amount', ascending=False).head(5)\n",
        "top_5_sales"
      ]
    },
    {
      "cell_type": "code",
      "execution_count": null,
      "id": "01ca7de0-932d-473f-8f48-64843be738d3",
      "metadata": {
        "id": "01ca7de0-932d-473f-8f48-64843be738d3",
        "outputId": "8ec25246-fb54-4bf0-9a9a-14638b6ea8b7"
      },
      "outputs": [
        {
          "data": {
            "text/plain": [
              "<Axes: xlabel='customer_id', ylabel='tran_amount'>"
            ]
          },
          "execution_count": 27,
          "metadata": {},
          "output_type": "execute_result"
        },
        {
          "data": {
            "image/png": "[encoded data removed]",
            "text/plain": [
              "<Figure size 640x480 with 1 Axes>"
            ]
          },
          "metadata": {},
          "output_type": "display_data"
        }
      ],
      "source": [
        "sns.barplot(x='customer_id',y='tran_amount',data=top_5_sales)"
      ]
    },
    {
      "cell_type": "code",
      "execution_count": null,
      "id": "e026ec2b-db18-403a-875f-5bd723da6f3b",
      "metadata": {
        "id": "e026ec2b-db18-403a-875f-5bd723da6f3b"
      },
      "outputs": [],
      "source": [
        "## times series analysis"
      ]
    },
    {
      "cell_type": "code",
      "execution_count": null,
      "id": "1711c61f-663e-454a-8caf-eb5af67e58d7",
      "metadata": {
        "id": "1711c61f-663e-454a-8caf-eb5af67e58d7",
        "outputId": "d34e3b78-86bc-4718-8227-5897915cbcfa"
      },
      "outputs": [
        {
          "name": "stderr",
          "output_type": "stream",
          "text": [
            "C:\\Users\\User\\AppData\\Local\\Temp\\ipykernel_10720\\1021291461.py:2: SettingWithCopyWarning: \n",
            "A value is trying to be set on a copy of a slice from a DataFrame.\n",
            "Try using .loc[row_indexer,col_indexer] = value instead\n",
            "\n",
            "See the caveats in the documentation: https://pandas.pydata.org/pandas-docs/stable/user_guide/indexing.html#returning-a-view-versus-a-copy\n",
            "  df['month_year']=df['trans_date'].dt.to_period('M')\n"
          ]
        },
        {
          "data": {
            "image/png": "[encoded data removed]",
            "text/plain": [
              "<Figure size 1200x600 with 1 Axes>"
            ]
          },
          "metadata": {},
          "output_type": "display_data"
        }
      ],
      "source": [
        "import matplotlib.dates as mdates\n",
        "df['month_year']=df['trans_date'].dt.to_period('M')\n",
        "monthly_sales = df.groupby('month_year')['tran_amount'].sum()\n",
        "\n",
        "monthly_sales.index= monthly_sales.index.to_timestamp()\n",
        "\n",
        "plt.figure(figsize=(12,6))\n",
        "plt.plot(monthly_sales.index, monthly_sales.values)\n",
        "\n",
        "plt.gca().xaxis.set_major_formatter(mdates.DateFormatter('%y-%m'))\n",
        "plt.gca().xaxis.set_major_locator(mdates.MonthLocator(interval=6))\n",
        "plt.xlabel('Month-Year')\n",
        "plt.ylabel('Sales')\n",
        "plt.title('Monthly Sales')\n",
        "plt.xticks(rotation=45)\n",
        "plt.tight_layout()\n",
        "plt.show()"
      ]
    },
    {
      "cell_type": "code",
      "execution_count": null,
      "id": "2e6a8534-6c31-4055-9a0b-7cd20827e0f7",
      "metadata": {
        "id": "2e6a8534-6c31-4055-9a0b-7cd20827e0f7"
      },
      "outputs": [],
      "source": [
        "### cohort segmentattion"
      ]
    },
    {
      "cell_type": "code",
      "execution_count": null,
      "id": "3af25699-1419-4c6c-b33f-5f856b6cdaae",
      "metadata": {
        "id": "3af25699-1419-4c6c-b33f-5f856b6cdaae"
      },
      "outputs": [],
      "source": [
        "#Recency\n",
        "recency= df.groupby('customer_id')['trans_date'].max()\n",
        "\n",
        "#Frequency\n",
        "frequency= df.groupby('customer_id')['trans_date'].count()\n",
        "\n",
        "#Monetary\n",
        "monetary= df.groupby('customer_id')['tran_amount'].sum()\n",
        "\n",
        "rfm= pd.DataFrame({'recency':recency, 'frequency':frequency,'monetary':monetary})"
      ]
    },
    {
      "cell_type": "code",
      "execution_count": null,
      "id": "fad85168-183e-4100-83e6-c046f1e2ad1d",
      "metadata": {
        "id": "fad85168-183e-4100-83e6-c046f1e2ad1d",
        "outputId": "8b3ba9d8-0002-41c1-9930-cfb24ba6661e"
      },
      "outputs": [
        {
          "data": {
            "text/html": [
              "<div>\n",
              "<style scoped>\n",
              "    .dataframe tbody tr th:only-of-type {\n",
              "        vertical-align: middle;\n",
              "    }\n",
              "\n",
              "    .dataframe tbody tr th {\n",
              "        vertical-align: top;\n",
              "    }\n",
              "\n",
              "    .dataframe thead th {\n",
              "        text-align: right;\n",
              "    }\n",
              "</style>\n",
              "<table border=\"1\" class=\"dataframe\">\n",
              "  <thead>\n",
              "    <tr style=\"text-align: right;\">\n",
              "      <th></th>\n",
              "      <th>recency</th>\n",
              "      <th>frequency</th>\n",
              "      <th>monetary</th>\n",
              "    </tr>\n",
              "    <tr>\n",
              "      <th>customer_id</th>\n",
              "      <th></th>\n",
              "      <th></th>\n",
              "      <th></th>\n",
              "    </tr>\n",
              "  </thead>\n",
              "  <tbody>\n",
              "    <tr>\n",
              "      <th>CS1112</th>\n",
              "      <td>2015-01-14</td>\n",
              "      <td>15</td>\n",
              "      <td>1012</td>\n",
              "    </tr>\n",
              "    <tr>\n",
              "      <th>CS1113</th>\n",
              "      <td>2015-02-09</td>\n",
              "      <td>20</td>\n",
              "      <td>1490</td>\n",
              "    </tr>\n",
              "    <tr>\n",
              "      <th>CS1114</th>\n",
              "      <td>2015-02-12</td>\n",
              "      <td>19</td>\n",
              "      <td>1432</td>\n",
              "    </tr>\n",
              "    <tr>\n",
              "      <th>CS1115</th>\n",
              "      <td>2015-03-05</td>\n",
              "      <td>22</td>\n",
              "      <td>1659</td>\n",
              "    </tr>\n",
              "    <tr>\n",
              "      <th>CS1116</th>\n",
              "      <td>2014-08-25</td>\n",
              "      <td>13</td>\n",
              "      <td>857</td>\n",
              "    </tr>\n",
              "    <tr>\n",
              "      <th>...</th>\n",
              "      <td>...</td>\n",
              "      <td>...</td>\n",
              "      <td>...</td>\n",
              "    </tr>\n",
              "    <tr>\n",
              "      <th>CS8996</th>\n",
              "      <td>2014-12-09</td>\n",
              "      <td>13</td>\n",
              "      <td>582</td>\n",
              "    </tr>\n",
              "    <tr>\n",
              "      <th>CS8997</th>\n",
              "      <td>2014-06-28</td>\n",
              "      <td>14</td>\n",
              "      <td>543</td>\n",
              "    </tr>\n",
              "    <tr>\n",
              "      <th>CS8998</th>\n",
              "      <td>2014-12-22</td>\n",
              "      <td>13</td>\n",
              "      <td>624</td>\n",
              "    </tr>\n",
              "    <tr>\n",
              "      <th>CS8999</th>\n",
              "      <td>2014-07-02</td>\n",
              "      <td>12</td>\n",
              "      <td>383</td>\n",
              "    </tr>\n",
              "    <tr>\n",
              "      <th>CS9000</th>\n",
              "      <td>2015-02-28</td>\n",
              "      <td>13</td>\n",
              "      <td>533</td>\n",
              "    </tr>\n",
              "  </tbody>\n",
              "</table>\n",
              "<p>6884 rows × 3 columns</p>\n",
              "</div>"
            ],
            "text/plain": [
              "               recency  frequency  monetary\n",
              "customer_id                                \n",
              "CS1112      2015-01-14         15      1012\n",
              "CS1113      2015-02-09         20      1490\n",
              "CS1114      2015-02-12         19      1432\n",
              "CS1115      2015-03-05         22      1659\n",
              "CS1116      2014-08-25         13       857\n",
              "...                ...        ...       ...\n",
              "CS8996      2014-12-09         13       582\n",
              "CS8997      2014-06-28         14       543\n",
              "CS8998      2014-12-22         13       624\n",
              "CS8999      2014-07-02         12       383\n",
              "CS9000      2015-02-28         13       533\n",
              "\n",
              "[6884 rows x 3 columns]"
            ]
          },
          "execution_count": 31,
          "metadata": {},
          "output_type": "execute_result"
        }
      ],
      "source": [
        "rfm"
      ]
    },
    {
      "cell_type": "code",
      "execution_count": null,
      "id": "bdeca86d-3a6f-4310-abc6-86fb80d5e587",
      "metadata": {
        "id": "bdeca86d-3a6f-4310-abc6-86fb80d5e587"
      },
      "outputs": [],
      "source": [
        "#customer segmatation"
      ]
    },
    {
      "cell_type": "code",
      "execution_count": null,
      "id": "7c80eca1-6e6b-449f-8106-4c57db799f1d",
      "metadata": {
        "id": "7c80eca1-6e6b-449f-8106-4c57db799f1d",
        "outputId": "313d0cb7-22ed-43d3-dc95-74d773e6ea08"
      },
      "outputs": [
        {
          "data": {
            "text/html": [
              "<div>\n",
              "<style scoped>\n",
              "    .dataframe tbody tr th:only-of-type {\n",
              "        vertical-align: middle;\n",
              "    }\n",
              "\n",
              "    .dataframe tbody tr th {\n",
              "        vertical-align: top;\n",
              "    }\n",
              "\n",
              "    .dataframe thead th {\n",
              "        text-align: right;\n",
              "    }\n",
              "</style>\n",
              "<table border=\"1\" class=\"dataframe\">\n",
              "  <thead>\n",
              "    <tr style=\"text-align: right;\">\n",
              "      <th></th>\n",
              "      <th>recency</th>\n",
              "      <th>frequency</th>\n",
              "      <th>monetary</th>\n",
              "      <th>segment</th>\n",
              "    </tr>\n",
              "    <tr>\n",
              "      <th>customer_id</th>\n",
              "      <th></th>\n",
              "      <th></th>\n",
              "      <th></th>\n",
              "      <th></th>\n",
              "    </tr>\n",
              "  </thead>\n",
              "  <tbody>\n",
              "    <tr>\n",
              "      <th>CS1112</th>\n",
              "      <td>2015-01-14</td>\n",
              "      <td>15</td>\n",
              "      <td>1012</td>\n",
              "      <td>PO</td>\n",
              "    </tr>\n",
              "    <tr>\n",
              "      <th>CS1113</th>\n",
              "      <td>2015-02-09</td>\n",
              "      <td>20</td>\n",
              "      <td>1490</td>\n",
              "      <td>PO</td>\n",
              "    </tr>\n",
              "    <tr>\n",
              "      <th>CS1114</th>\n",
              "      <td>2015-02-12</td>\n",
              "      <td>19</td>\n",
              "      <td>1432</td>\n",
              "      <td>PO</td>\n",
              "    </tr>\n",
              "    <tr>\n",
              "      <th>CS1115</th>\n",
              "      <td>2015-03-05</td>\n",
              "      <td>22</td>\n",
              "      <td>1659</td>\n",
              "      <td>PO</td>\n",
              "    </tr>\n",
              "    <tr>\n",
              "      <th>CS1116</th>\n",
              "      <td>2014-08-25</td>\n",
              "      <td>13</td>\n",
              "      <td>857</td>\n",
              "      <td>P2</td>\n",
              "    </tr>\n",
              "    <tr>\n",
              "      <th>...</th>\n",
              "      <td>...</td>\n",
              "      <td>...</td>\n",
              "      <td>...</td>\n",
              "      <td>...</td>\n",
              "    </tr>\n",
              "    <tr>\n",
              "      <th>CS8996</th>\n",
              "      <td>2014-12-09</td>\n",
              "      <td>13</td>\n",
              "      <td>582</td>\n",
              "      <td>P2</td>\n",
              "    </tr>\n",
              "    <tr>\n",
              "      <th>CS8997</th>\n",
              "      <td>2014-06-28</td>\n",
              "      <td>14</td>\n",
              "      <td>543</td>\n",
              "      <td>P2</td>\n",
              "    </tr>\n",
              "    <tr>\n",
              "      <th>CS8998</th>\n",
              "      <td>2014-12-22</td>\n",
              "      <td>13</td>\n",
              "      <td>624</td>\n",
              "      <td>P2</td>\n",
              "    </tr>\n",
              "    <tr>\n",
              "      <th>CS8999</th>\n",
              "      <td>2014-07-02</td>\n",
              "      <td>12</td>\n",
              "      <td>383</td>\n",
              "      <td>P2</td>\n",
              "    </tr>\n",
              "    <tr>\n",
              "      <th>CS9000</th>\n",
              "      <td>2015-02-28</td>\n",
              "      <td>13</td>\n",
              "      <td>533</td>\n",
              "      <td>P2</td>\n",
              "    </tr>\n",
              "  </tbody>\n",
              "</table>\n",
              "<p>6884 rows × 4 columns</p>\n",
              "</div>"
            ],
            "text/plain": [
              "               recency  frequency  monetary segment\n",
              "customer_id                                        \n",
              "CS1112      2015-01-14         15      1012      PO\n",
              "CS1113      2015-02-09         20      1490      PO\n",
              "CS1114      2015-02-12         19      1432      PO\n",
              "CS1115      2015-03-05         22      1659      PO\n",
              "CS1116      2014-08-25         13       857      P2\n",
              "...                ...        ...       ...     ...\n",
              "CS8996      2014-12-09         13       582      P2\n",
              "CS8997      2014-06-28         14       543      P2\n",
              "CS8998      2014-12-22         13       624      P2\n",
              "CS8999      2014-07-02         12       383      P2\n",
              "CS9000      2015-02-28         13       533      P2\n",
              "\n",
              "[6884 rows x 4 columns]"
            ]
          },
          "execution_count": 32,
          "metadata": {},
          "output_type": "execute_result"
        }
      ],
      "source": [
        "def segment_customer(row):\n",
        "    if row['recency'].year>=2012 and row['frequency']>=15 and row['monetary']>1000:\n",
        "       return 'PO'\n",
        "    elif(2011<=row['recency'].year<2012 and (10<row['frequency']<15) and (500<=row['monetary']<=1000)):\n",
        "      return 'P1'\n",
        "    else:\n",
        "      return 'P2'\n",
        "rfm ['segment']= rfm.apply(segment_customer, axis=1)\n",
        "rfm"
      ]
    },
    {
      "cell_type": "code",
      "execution_count": null,
      "id": "527052d4-2cf6-4811-8741-a8fcec9cc67b",
      "metadata": {
        "id": "527052d4-2cf6-4811-8741-a8fcec9cc67b"
      },
      "outputs": [],
      "source": [
        "##churn analysis"
      ]
    },
    {
      "cell_type": "code",
      "execution_count": null,
      "id": "8151450b-713a-4981-af9b-3cea85374242",
      "metadata": {
        "id": "8151450b-713a-4981-af9b-3cea85374242",
        "outputId": "29e600df-5e56-4ee9-cdb8-880e11674677"
      },
      "outputs": [
        {
          "data": {
            "text/plain": [
              "<Axes: xlabel='response'>"
            ]
          },
          "execution_count": 33,
          "metadata": {},
          "output_type": "execute_result"
        },
        {
          "data": {
            "image/png": "[encoded data removed]",
            "text/plain": [
              "<Figure size 640x480 with 1 Axes>"
            ]
          },
          "metadata": {},
          "output_type": "display_data"
        }
      ],
      "source": [
        "#count the number of churned and active customers\n",
        "churn_counts= df ['response'].value_counts()\n",
        "\n",
        "#Plot\n",
        "churn_counts.plot(kind='bar')"
      ]
    },
    {
      "cell_type": "code",
      "execution_count": null,
      "id": "38a94620-b7a1-49f1-8d8e-8b78abf59c5e",
      "metadata": {
        "id": "38a94620-b7a1-49f1-8d8e-8b78abf59c5e"
      },
      "outputs": [],
      "source": [
        "##Analyzing top customers"
      ]
    },
    {
      "cell_type": "code",
      "execution_count": null,
      "id": "1d62f2b8-d2aa-4236-9ab8-6cf83e6d79ba",
      "metadata": {
        "id": "1d62f2b8-d2aa-4236-9ab8-6cf83e6d79ba",
        "outputId": "05389fca-aea7-41d8-ac5d-49f5a3176670"
      },
      "outputs": [
        {
          "data": {
            "text/plain": [
              "<Axes: xlabel='month_year'>"
            ]
          },
          "execution_count": 34,
          "metadata": {},
          "output_type": "execute_result"
        },
        {
          "data": {
            "image/png": "[encoded data removed]",
            "text/plain": [
              "<Figure size 640x480 with 1 Axes>"
            ]
          },
          "metadata": {},
          "output_type": "display_data"
        }
      ],
      "source": [
        "top_5_cust= monetary.sort_values(ascending=False).head(5).index\n",
        "top_customers_df= df[df['customer_id'].isin(top_5_cust)]\n",
        "top_customers_sales = top_customers_df.groupby(['customer_id','month_year'])['tran_amount'].sum().unstack(level=0)\n",
        "top_customers_sales.plot(kind='line')"
      ]
    },
    {
      "cell_type": "code",
      "execution_count": null,
      "id": "91093881-267e-4cc9-94e3-be796ff211cc",
      "metadata": {
        "id": "91093881-267e-4cc9-94e3-be796ff211cc"
      },
      "outputs": [],
      "source": [
        "df.to_csv('MainData.csv')"
      ]
    },
    {
      "cell_type": "code",
      "execution_count": null,
      "id": "34ac74e1-e512-4004-b041-41cbeee68028",
      "metadata": {
        "id": "34ac74e1-e512-4004-b041-41cbeee68028"
      },
      "outputs": [],
      "source": [
        "rfm.to_csv('AddAnlys.csv')"
      ]
    },
    {
      "cell_type": "code",
      "execution_count": null,
      "id": "65859fa8-3b64-4a52-ac49-f32bec7bd961",
      "metadata": {
        "id": "65859fa8-3b64-4a52-ac49-f32bec7bd961"
      },
      "outputs": [],
      "source": []
    },
    {
      "cell_type": "code",
      "execution_count": null,
      "id": "a6f01f5e-551f-4114-a3ec-6b3a17d47d78",
      "metadata": {
        "id": "a6f01f5e-551f-4114-a3ec-6b3a17d47d78"
      },
      "outputs": [],
      "source": []
    }
  ],
  "metadata": {
    "kernelspec": {
      "display_name": "Python 3 (ipykernel)",
      "language": "python",
      "name": "python3"
    },
    "language_info": {
      "codemirror_mode": {
        "name": "ipython",
        "version": 3
      },
      "file_extension": ".py",
      "mimetype": "text/x-python",
      "name": "python",
      "nbconvert_exporter": "python",
      "pygments_lexer": "ipython3",
      "version": "3.11.7"
    },
    "colab": {
      "provenance": []
    }
  },
  "nbformat": 4,
  "nbformat_minor": 5
}